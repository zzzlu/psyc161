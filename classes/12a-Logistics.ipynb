{
 "metadata": {
  "name": "",
  "signature": "sha256:2b78807984ccece347998e7e3b621069599bff05a67f5950aeb8eaacaedde437"
 },
 "nbformat": 3,
 "nbformat_minor": 0,
 "worksheets": [
  {
   "cells": [
    {
     "cell_type": "heading",
     "level": 1,
     "metadata": {},
     "source": [
      "Logistics -- Debugging"
     ]
    },
    {
     "cell_type": "markdown",
     "metadata": {},
     "source": [
      "Quite often we need to interactively \"debug\" the program, e.g.\n",
      "\n",
      "- to figure out what value(s) caused error\n",
      "- to follow logic of the program step by step\n",
      "\n",
      "For those purposes we usually use a \"debugger\".  Python comes with built-in debugger called *pdb*."
     ]
    },
    {
     "cell_type": "heading",
     "level": 3,
     "metadata": {},
     "source": [
      "Watch a little youtube video: https://www.youtube.com/watch?v=bZZTeKPRSLQ"
     ]
    },
    {
     "cell_type": "markdown",
     "metadata": {},
     "source": [
      "So we can invoke debugger in a variety of ways:\n",
      "\n",
      "- run entire program via debugger: \n",
      "\n",
      "     ```python -m pdb  program.py  arguments```\n",
      "  - pros: no code modification needed\n",
      "  - cons: slows down execution\n",
      "- fall into debugger when needed, just add in your code ```import pdb; pdb.set_trace()```\n",
      "  - pros: very flexible!\n",
      "  - cons: need to modify code\n",
      "- if crashing with an error while running `nosetests`, add option `--pdb`:  \n",
      "     ```nosetests --pdb -s -v file_to_test.py```\n",
      "- if test  fails (i.e. AssertionError), and you want to see what caused it, add `--pdb-failures` option to your nosetests call:\n",
      "     ```nosetests --pdb-failures -s -v file_to_test.py```"
     ]
    }
   ],
   "metadata": {}
  }
 ]
}