{
 "metadata": {
  "name": "",
  "signature": "sha256:1faafed39903c1859ba4713b5f38a4d2d92037e40beaeda83c52d76d5938c1fb"
 },
 "nbformat": 3,
 "nbformat_minor": 0,
 "worksheets": [
  {
   "cells": [
    {
     "cell_type": "heading",
     "level": 1,
     "metadata": {},
     "source": [
      "Hands-on: PsychoPy -- Simple GUI for input"
     ]
    },
    {
     "cell_type": "code",
     "collapsed": false,
     "input": [
      "from psychopy import visual, gui"
     ],
     "language": "python",
     "metadata": {},
     "outputs": []
    },
    {
     "cell_type": "code",
     "collapsed": false,
     "input": [
      "fields = {'subject_code': '',\n",
      "          'condition': ['catch', 'normal'],\n",
      "          'age': 0,\n",
      "          'gender': ['male', 'female'],\n",
      "          'exp_version': '1.1',\n",
      "          }\n",
      "\n",
      "if not gui.DlgFromDict(fields,\n",
      "                       order=['subject_code',\n",
      "                              'age',\n",
      "                              'gender'],\n",
      "                       tip={'subject_code': 'Code from the book, no names/initials'},\n",
      "                       fixed='exp_version').OK:\n",
      "    core.quit()\n",
      "print fields"
     ],
     "language": "python",
     "metadata": {},
     "outputs": []
    },
    {
     "cell_type": "markdown",
     "metadata": {},
     "source": [
      "- - -\n",
      "**Excercise/More**\n",
      "\n",
      "Run GUI.py demo from within PsychoPy coder"
     ]
    }
   ],
   "metadata": {}
  }
 ]
}