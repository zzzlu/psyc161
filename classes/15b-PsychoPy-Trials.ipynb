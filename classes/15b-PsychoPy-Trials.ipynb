{
 "metadata": {
  "name": "",
  "signature": "sha256:9f3073718d6ca7054f4c0f8757c3a8780dbfd226e1371b95468abef4a6e97715"
 },
 "nbformat": 3,
 "nbformat_minor": 0,
 "worksheets": [
  {
   "cells": [
    {
     "cell_type": "heading",
     "level": 1,
     "metadata": {},
     "source": [
      "Hands-on: PsychoPy -- Experiment/Trials"
     ]
    },
    {
     "cell_type": "markdown",
     "metadata": {},
     "source": [
      "In previous PsychoPy sessions we have learned how to\n",
      "\n",
      "- present various stimuli\n",
      "- take care about timing them up\n",
      "- register subject's (keyboard) responses\n",
      "\n",
      "So now we need to tie those together with information about experiment trials fulfilling desired experiment design."
     ]
    },
    {
     "cell_type": "markdown",
     "metadata": {},
     "source": [
      "Since we have a full freedom in expressing organization of trials, we could \n",
      "- use simple Python constracts (lists, dicts, tuples) and `random` module to provide random ordering of trials (but remember not every random is random enough) order\n",
      "- [pandas](http://pandas.pydata.org) to organize a convenient spreadsheet for representing our trials (and possibly responses)\n",
      "\n",
      "*Reference*: see [ppc3_trial_handling.py](https://github.com/lindeloev/psychopy-course/blob/HEAD/ppc3_trial_handling.py) from [PsychoPy Course](http://github.com/lindeloev/psychopy-course) by Jonas Lindel\u00f8v for examples of those."
     ]
    },
    {
     "cell_type": "heading",
     "level": 3,
     "metadata": {},
     "source": [
      "PsychoPy *Handlers"
     ]
    },
    {
     "cell_type": "markdown",
     "metadata": {},
     "source": [
      "To help with control of trial presentations, PsychoPy (in [psychopy.data](http://www.psychopy.org/api/data.html) module) provides [a number of helpers](http://www.psychopy.org/coder/codeTrials.html) to design various experiments\n",
      "\n",
      "- [ExperimentHandler](http://www.psychopy.org/api/data.html#psychopy.data.ExperimentHandler) to collect/handle all information about current experimental run, which could *use/contain* multiple handlers for specific trials:\n",
      "\n",
      "  - [TrialHandler](http://www.psychopy.org/api/data.html?highlight=trialhandler) for the [\"Method of constants\"](http://www.psychopy.org/general/glossary.html#term-method-of-constants) experiments where trials can be pre-determined and subject reponses do not impact subsequent trials\n",
      "\n",
      "  - Various Handlers for *Adaptive* experiments (e.g. [Adaptive Staircase](http://www.psychopy.org/general/glossary.html#term-adaptive-staircase), [QUEST](http://www.psychopy.org/api/data.html?highlight=trialhandler#psychopy.data.QuestHandler) etc) where parameters of next trials would depend on previous subject reponses"
     ]
    },
    {
     "cell_type": "markdown",
     "metadata": {},
     "source": [
      "To toy around with designing an experiment lets reuse those stimuli used by Haxby 2001"
     ]
    },
    {
     "cell_type": "code",
     "collapsed": false,
     "input": [
      "# when it is done just rerun to \"clear up\" the output\n",
      "! [ -e haxby2001 ] || git clone http://data.pymvpa.org/datasets/haxby2001/.git\n",
      "! cd haxby2001; bash -c \"git annex get stimuli/{houses,cats,faces} # 2>/dev/null\""
     ],
     "language": "python",
     "metadata": {},
     "outputs": []
    },
    {
     "cell_type": "markdown",
     "metadata": {},
     "source": [
      "and aim to create a simple factorial design presenting pictures of those categories at different opacities, multiple number of presentations in a run"
     ]
    },
    {
     "cell_type": "code",
     "collapsed": false,
     "input": [
      "opacities = [0.5, 1.0]\n",
      "same = [False, True]\n",
      "# Let's limit to only 3 categories for now\n",
      "categories = ['houses', 'cats', 'faces']\n",
      "reps = 2"
     ],
     "language": "python",
     "metadata": {},
     "outputs": []
    },
    {
     "cell_type": "markdown",
     "metadata": {},
     "source": [
      "so that overall structure of the experimental run would be:"
     ]
    },
    {
     "cell_type": "code",
     "collapsed": false,
     "input": [],
     "language": "python",
     "metadata": {},
     "outputs": []
    },
    {
     "cell_type": "code",
     "collapsed": false,
     "input": [
      "from psychopy import data, core\n",
      "import time\n",
      "import random # just for demoing\n",
      "\n",
      "timestamp = time.strftime('%Y%m%d_%H%M%S', time.localtime())\n",
      "\n",
      "exp = data.ExperimentHandler(name='testExp',\n",
      "                version='0.1',\n",
      "                extraInfo={'participant': '666', 'gender': 'notsure'},\n",
      "                originPath=None,\n",
      "                savePickle=True,\n",
      "                saveWideText=True,\n",
      "                dataFileName='testExp_' + timestamp)\n",
      "\n",
      "# tuple list of unique trials\n",
      "conditions = data.createFactorialTrialList(\n",
      "    {'opacity': opacities, 'category': categories, 'same': same})\n",
      "# generate trials order\n",
      "trials = data.TrialHandler(conditions, reps, method='fullRandom')\n",
      "\n",
      "# There could be multiple \"trial blocks\"\n",
      "exp.addLoop(trials)\n",
      "\n",
      "# TODO 1 Pre-generate our stimuli\n",
      "\n",
      "for trial in trials:\n",
      "    print trial\n",
      "    # TODO 2 present stimuli, collect responses how we learned in prev sessions\n",
      "    # for this demo -- let's simulate\n",
      "    answer = random.choice(['left', 'right'])\n",
      "    response_time = random.random() + 0.2\n",
      "    # Record that trial information\n",
      "    trials.addData('answer', answer)\n",
      "    trials.addData('RT', response_time)\n",
      "    exp.nextEntry() # record this into the ultimate \"logbook\"\n",
      "\n",
      "del exp # just to trigger \"saving\" of the exp, or you could call exp.save* methods explicitly"
     ],
     "language": "python",
     "metadata": {},
     "outputs": []
    },
    {
     "cell_type": "markdown",
     "metadata": {},
     "source": [
      "- - -\n",
      "**Mini-Excercise**\n",
      "\n",
      "Run the above code block and check out generated files.  Use `pickle` module (recall 07c-Numerical-Python-IO_NumPy session) to load .psyexp"
     ]
    },
    {
     "cell_type": "markdown",
     "metadata": {},
     "source": [
      "- - -\n",
      "**Mega-Excercise**\n",
      "\n",
      "Given above core snippet as the starting point, and the materials of previous PsychoPy lectures, develop a script for even-related experiment on identity judgement of two stimuli, simultaneously presented to two halfs of the screen.\n",
      "\n",
      "1. For each of the categories of interest, there are 12 \"identities\" within each category and varying number of distinct samples of each identity.  Pre-generate visual stimuli of 4 samples per each identity for each category.\n",
      "\n",
      "2. In the \"same\" trials, photos of the same identity but of different \"samples\" (orientation) should be presented. In same==False, stimuli should be of the same category but different identities and different \"samples\" should be presented.\n",
      "\n",
      "3. Fixation should be present though the entire run in the center. \n",
      "\n",
      "4. Images should be of 8 vis degree angle width in the center of the right and left halfs of the screen.\n",
      "\n",
      "5. Stimuli should be presented for 0.5 sec (you can assume 60Hz refresh rate), followed by a period to collect responses (fixation color green) for 1.5 sec, and varying (0.5 to 2 sec) fixation only (color back to black) period.\n",
      "\n",
      "6. Within response period subjects should respond (choose your buttons to code) either stimuli were the same or different\n",
      "\n",
      "7. Upon completion of the run, output mean accuracy per each category at each level of opacity."
     ]
    },
    {
     "cell_type": "code",
     "collapsed": false,
     "input": [],
     "language": "python",
     "metadata": {},
     "outputs": []
    }
   ],
   "metadata": {}
  }
 ]
}