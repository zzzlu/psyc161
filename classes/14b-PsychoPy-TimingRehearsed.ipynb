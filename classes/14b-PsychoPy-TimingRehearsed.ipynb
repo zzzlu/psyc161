{
 "metadata": {
  "name": "",
  "signature": "sha256:cdb8cd33a3805d486884bfda903506154e3b53ccebe0c8d8f35238d06222475d"
 },
 "nbformat": 3,
 "nbformat_minor": 0,
 "worksheets": [
  {
   "cells": [
    {
     "cell_type": "heading",
     "level": 1,
     "metadata": {},
     "source": [
      "Hands-on: PsychoPy -- Timing (rehearsed)"
     ]
    },
    {
     "cell_type": "markdown",
     "metadata": {},
     "source": [
      "Largely based on materials from [PsychoPy Course](http://github.com/lindeloev/psychopy-course) by\n",
      "  Jonas Lindel\u00f8v, licensed under [GPL v.2](https://github.com/lindeloev/psychopy-course/blob/master/LICENSE)"
     ]
    },
    {
     "cell_type": "heading",
     "level": 2,
     "metadata": {},
     "source": [
      "Rehearsal on timing issues"
     ]
    },
    {
     "cell_type": "markdown",
     "metadata": {},
     "source": [
      "Remember:\n",
      "\n",
      "  1. time visual using win.flip(), not core.wait()\n",
      "  2. put processing before timing-critical period\n",
      "  3. put trigger/logging after win.flip() or sound.play()\n"
     ]
    },
    {
     "cell_type": "code",
     "collapsed": false,
     "input": [
      "from psychopy import core, visual # , parallel, sound"
     ],
     "language": "python",
     "metadata": {},
     "outputs": []
    },
    {
     "cell_type": "heading",
     "level": 3,
     "metadata": {},
     "source": [
      "1. use win.flip()"
     ]
    },
    {
     "cell_type": "code",
     "collapsed": false,
     "input": [
      "# BAD: using core.wait() to time visual stimuli\n",
      "win = visual.Window()\n",
      "stim = visual.TextStim(win, text=\"Not on time!\")\n",
      "stim.draw()\n",
      "win.flip()\n",
      "core.wait(0.05)     # Wait for 50 ms using core.wait()\n",
      "win.flip()          # Draw blank screen on next flip.\n",
      "                    # This is likely to arrive late, making the stimulus last longer than intended.\n",
      "win.close()"
     ],
     "language": "python",
     "metadata": {},
     "outputs": []
    },
    {
     "cell_type": "code",
     "collapsed": false,
     "input": [
      "# GOOD: using frames\n",
      "win = visual.Window()\n",
      "stim = visual.TextStim(win, text=\"Right on time!\")\n",
      "for frameN in range(3): # Loop for 3 frames\n",
      "    stim.draw()         # Draw stimulus to buffer on every frame\n",
      "    win.flip()          # Flip screen on every frame: this is timed to actual update of monitor\n",
      "win.flip()              # Draw blank screen on next flip.: stimulus stops.\n",
      "win.close()"
     ],
     "language": "python",
     "metadata": {},
     "outputs": []
    },
    {
     "cell_type": "heading",
     "level": 3,
     "metadata": {},
     "source": [
      "2. Process heavy stuff in advance"
     ]
    },
    {
     "cell_type": "code",
     "collapsed": false,
     "input": [
      "# BAD: doing process heavy stuff in timing critical periods\n",
      "win = visual.Window()\n",
      "for frameN in range(3):\n",
      "    stim = visual.TextStim(win, text=\"Not on time!\")  # Initialize a whole new stimulus: very heavy on resources and likely to cause a delay.\n",
      "    stim.pos = (1,2)  # Or: set constant attributes on every loop that really remains constant throughout the trial.\n",
      "    stim.color = 'green'\n",
      "    stim.draw()\n",
      "    win.flip()\n",
      "win.close()"
     ],
     "language": "python",
     "metadata": {},
     "outputs": []
    },
    {
     "cell_type": "code",
     "collapsed": false,
     "input": [
      "# GOOD: do things in advance, outside the loop\n",
      "win = visual.Window()\n",
      "stim = visual.TextStim(win, text=\"Right on time!\")\n",
      "stim.pos = (1,2)\n",
      "stim.color = 'green'\n",
      "for frameN in range(3):\n",
      "    stim.draw()\n",
      "    win.flip()\n",
      "win.close()"
     ],
     "language": "python",
     "metadata": {},
     "outputs": []
    },
    {
     "cell_type": "heading",
     "level": 3,
     "metadata": {},
     "source": [
      "3. Put trigger/logging after win.flip() or sound.play()"
     ]
    },
    {
     "cell_type": "code",
     "collapsed": false,
     "input": [
      "# BAD: logging visual events before win.flip(), i.e. out of sync with actual monitor update\n",
      "win = visual.Window()\n",
      "clock = core.Clock()\n",
      "stim = visual.TextStim(win, text=\"Right on time!\")\n",
      "\n",
      "clock.reset()\n",
      "# Since we don't have any port assigned -- commented out\n",
      "# port.setData(255)\n",
      "for frameN in range(3):\n",
      "    stim.draw()\n",
      "    win.flip()              # Note that the first flip might occur many milliseconds after log/trigger\n",
      "# port.setData(0)\n",
      "duration = clock.getTime()  # Get time since clock.reset(). Note that this is executed while stimulus is still on screen.\n",
      "win.close()"
     ],
     "language": "python",
     "metadata": {},
     "outputs": []
    },
    {
     "cell_type": "markdown",
     "metadata": {},
     "source": [
      "- `win.callOnFlip` allows to assign functions to be called after *next* (single) flip, making it convenient to automate logging/triggering of external actions etc"
     ]
    },
    {
     "cell_type": "code",
     "collapsed": false,
     "input": [
      "# GOOD: logging just after win.flip()\n",
      "win = visual.Window()\n",
      "clock = core.Clock()\n",
      "stim = visual.TextStim(win, text=\"Right on time!\")\n",
      "\n",
      "win.callOnFlip(clock.reset)  # Set clock time to zero\n",
      "# win.callOnFlip(port.setData, 255)  # Start trigger\n",
      "for frameN in range(3):\n",
      "    stim.draw()\n",
      "    win.flip()\n",
      "win.flip()                      # Show blank screen\n",
      "duration = clock.getTime()      # Get duration just when blank screen has been presented, i.e. when stimulus ends\n",
      "# port.setData(0)             # Stop trigger\n",
      "win.close()"
     ],
     "language": "python",
     "metadata": {},
     "outputs": []
    },
    {
     "cell_type": "heading",
     "level": 3,
     "metadata": {},
     "source": [
      "Ultimate \"Pretty\" synchronized audio/video/trigger demo:"
     ]
    },
    {
     "cell_type": "code",
     "collapsed": false,
     "input": [
      "# DO NOT RUN IN VirtualBox - We do not have port/sounds\n",
      "#\n",
      "# Play sound and show visual and time with trigger.\n",
      "# See next script if you want them (almost) perfectly synchronized.\n",
      "\n",
      "for i in range(20):\n",
      "    # Do these things on first flip\n",
      "    win.callOnFlip(beep_winsound.play)  # play sound! Takes less than 0.1 ms\n",
      "    win.callOnFlip(port.setData, 15)  # takes less than 0.01 ms\n",
      "    win.callOnFlip(clock.reset)  # takes less than 0.01 ms\n",
      "\n",
      "    # Begin flip-loop\n",
      "    for frame in range(3):\n",
      "        stim.draw()\n",
      "        win.flip()  # every 16.667 ms\n",
      "    win.flip()\n",
      "    port.setData(0)  # takes less than 0.01 ms\n",
      "    duration = clock.getTime()  # takes less than 0.01 ms\n",
      "    core.wait(0.3)\n"
     ],
     "language": "python",
     "metadata": {},
     "outputs": []
    }
   ],
   "metadata": {}
  }
 ]
}